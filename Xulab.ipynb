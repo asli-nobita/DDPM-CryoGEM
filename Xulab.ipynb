{
  "cells": [
    {
      "cell_type": "code",
      "execution_count": null,
      "metadata": {
        "colab": {
          "base_uri": "https://localhost:8080/"
        },
        "id": "2qyCg8vK90gN",
        "outputId": "e6916980-0170-4660-f5d3-e6a17bb99532"
      },
      "outputs": [
        {
          "name": "stdout",
          "output_type": "stream",
          "text": [
            "/content/drive/MyDrive/CryoGEM\n",
            "\u001b[0m\u001b[01;34massets\u001b[0m/       \u001b[01;34mcryogem\u001b[0m/           LICENSE      pyproject.toml  \u001b[01;34mtesting\u001b[0m/\n",
            "\u001b[01;34mcheckpoints\u001b[0m/  \u001b[01;34mcryogem.egg-info\u001b[0m/  MANIFEST.in  README.md       versions.txt\n"
          ]
        }
      ],
      "source": [
        "# run this if you are on Google Colab, otherwise skip\n",
        "%cd /content/drive/MyDrive/CryoGEM/\n",
        "%ls"
      ]
    },
    {
      "cell_type": "code",
      "execution_count": null,
      "metadata": {
        "id": "c2G8P3q9IZZa"
      },
      "outputs": [],
      "source": [
        "# install dependencies\n",
        "%pip install ."
      ]
    },
    {
      "cell_type": "code",
      "execution_count": null,
      "metadata": {
        "id": "AW6fOHSiuFI9"
      },
      "outputs": [],
      "source": [
        "# remove existing checkpoints and generated images\n",
        "%rm -rf checkpoints/*"
      ]
    },
    {
      "cell_type": "code",
      "execution_count": null,
      "metadata": {
        "colab": {
          "base_uri": "https://localhost:8080/"
        },
        "id": "pphMGAl7_EXW",
        "outputId": "5764565b-006c-476f-fb3d-811367adb7af"
      },
      "outputs": [
        {
          "name": "stdout",
          "output_type": "stream",
          "text": [
            "Using device: cuda\n",
            "Training for 30 epochs with learning rate 0.0002\n",
            "Starting training on device: cuda\n",
            "Using cosine noise schedule\n",
            "Starting from epoch: 0\n",
            "Initial best loss: inf\n",
            "Epoch 1/30: 100% 30/30 [00:41<00:00,  1.37s/it, loss=0.178]\n",
            "Epoch 1/30, Average Loss: 0.9252\n",
            "New best model saved with loss: 0.9252\n",
            "Epoch 2/30: 100% 30/30 [00:38<00:00,  1.28s/it, loss=0.0939]\n",
            "Epoch 2/30, Average Loss: 0.1347\n",
            "New best model saved with loss: 0.1347\n",
            "Epoch 3/30: 100% 30/30 [00:39<00:00,  1.30s/it, loss=0.0891]\n",
            "Epoch 3/30, Average Loss: 0.0800\n",
            "New best model saved with loss: 0.0800\n",
            "Epoch 4/30: 100% 30/30 [00:38<00:00,  1.29s/it, loss=0.0167]\n",
            "Epoch 4/30, Average Loss: 0.0715\n",
            "New best model saved with loss: 0.0715\n",
            "Epoch 5/30: 100% 30/30 [00:39<00:00,  1.30s/it, loss=0.124]\n",
            "Epoch 5/30, Average Loss: 0.0576\n",
            "New best model saved with loss: 0.0576\n",
            "Epoch 6/30: 100% 30/30 [00:39<00:00,  1.30s/it, loss=0.102]\n",
            "Epoch 6/30, Average Loss: 0.0664\n",
            "Epoch 7/30: 100% 30/30 [00:36<00:00,  1.21s/it, loss=0.0381]\n",
            "Epoch 7/30, Average Loss: 0.0557\n",
            "New best model saved with loss: 0.0557\n",
            "Epoch 8/30: 100% 30/30 [00:38<00:00,  1.28s/it, loss=0.0215]\n",
            "Epoch 8/30, Average Loss: 0.0661\n",
            "Epoch 9/30: 100% 30/30 [00:36<00:00,  1.22s/it, loss=0.103]\n",
            "Epoch 9/30, Average Loss: 0.0578\n",
            "Epoch 10/30: 100% 30/30 [00:36<00:00,  1.20s/it, loss=0.173]\n",
            "Epoch 10/30, Average Loss: 0.0703\n",
            "Checkpoint saved at epoch 10\n",
            "Epoch 11/30: 100% 30/30 [00:39<00:00,  1.33s/it, loss=0.0374]\n",
            "Epoch 11/30, Average Loss: 0.0504\n",
            "New best model saved with loss: 0.0504\n",
            "Epoch 12/30: 100% 30/30 [00:39<00:00,  1.31s/it, loss=0.125]\n",
            "Epoch 12/30, Average Loss: 0.0475\n",
            "New best model saved with loss: 0.0475\n",
            "Epoch 13/30: 100% 30/30 [00:39<00:00,  1.31s/it, loss=0.0371]\n",
            "Epoch 13/30, Average Loss: 0.0444\n",
            "New best model saved with loss: 0.0444\n",
            "Epoch 14/30: 100% 30/30 [00:39<00:00,  1.33s/it, loss=0.0155]\n",
            "Epoch 14/30, Average Loss: 0.0436\n",
            "New best model saved with loss: 0.0436\n",
            "Epoch 15/30: 100% 30/30 [00:39<00:00,  1.32s/it, loss=0.0777]\n",
            "Epoch 15/30, Average Loss: 0.0549\n",
            "Epoch 16/30: 100% 30/30 [00:36<00:00,  1.21s/it, loss=0.0321]\n",
            "Epoch 16/30, Average Loss: 0.0474\n",
            "Epoch 17/30: 100% 30/30 [00:36<00:00,  1.21s/it, loss=0.00617]\n",
            "Epoch 17/30, Average Loss: 0.0436\n",
            "New best model saved with loss: 0.0436\n",
            "Epoch 18/30: 100% 30/30 [00:39<00:00,  1.31s/it, loss=0.015]\n",
            "Epoch 18/30, Average Loss: 0.0431\n",
            "New best model saved with loss: 0.0431\n",
            "Epoch 19/30: 100% 30/30 [00:38<00:00,  1.28s/it, loss=0.0461]\n",
            "Epoch 19/30, Average Loss: 0.0452\n",
            "Epoch 20/30: 100% 30/30 [00:36<00:00,  1.21s/it, loss=0.0509]\n",
            "Epoch 20/30, Average Loss: 0.0453\n",
            "Checkpoint saved at epoch 20\n",
            "Epoch 21/30: 100% 30/30 [00:38<00:00,  1.29s/it, loss=0.00687]\n",
            "Epoch 21/30, Average Loss: 0.0433\n",
            "Epoch 22/30: 100% 30/30 [00:36<00:00,  1.21s/it, loss=0.00545]\n",
            "Epoch 22/30, Average Loss: 0.0415\n",
            "New best model saved with loss: 0.0415\n",
            "Epoch 23/30: 100% 30/30 [00:39<00:00,  1.32s/it, loss=0.0221]\n",
            "Epoch 23/30, Average Loss: 0.0458\n",
            "Epoch 24/30: 100% 30/30 [00:36<00:00,  1.21s/it, loss=0.00621]\n",
            "Epoch 24/30, Average Loss: 0.0409\n",
            "New best model saved with loss: 0.0409\n",
            "Epoch 25/30: 100% 30/30 [00:39<00:00,  1.32s/it, loss=0.0827]\n",
            "Epoch 25/30, Average Loss: 0.0408\n",
            "New best model saved with loss: 0.0408\n",
            "Epoch 26/30: 100% 30/30 [00:39<00:00,  1.31s/it, loss=0.0342]\n",
            "Epoch 26/30, Average Loss: 0.0446\n",
            "Epoch 27/30: 100% 30/30 [00:36<00:00,  1.21s/it, loss=0.0458]\n",
            "Epoch 27/30, Average Loss: 0.0414\n",
            "Epoch 28/30: 100% 30/30 [00:36<00:00,  1.21s/it, loss=0.117]\n",
            "Epoch 28/30, Average Loss: 0.0465\n",
            "Epoch 29/30: 100% 30/30 [00:36<00:00,  1.21s/it, loss=0.0135]\n",
            "Epoch 29/30, Average Loss: 0.0501\n",
            "Epoch 30/30: 100% 30/30 [00:36<00:00,  1.21s/it, loss=0.0181]\n",
            "Epoch 30/30, Average Loss: 0.0397\n",
            "Checkpoint saved at epoch 30\n",
            "New best model saved with loss: 0.0397\n"
          ]
        }
      ],
      "source": [
        "# train DDPM\n",
        "!python -u testing/train_ddpm.py --num_epochs 100 --learning_rate 1.5e-4 --schedule_type cosine"
      ]
    },
    {
      "cell_type": "code",
      "execution_count": null,
      "metadata": {},
      "outputs": [],
      "source": [
        "# evaluate fid using manual implementation \n",
        "!python -u testing/evaluate_fid.py"
      ]
    },
    {
      "cell_type": "code",
      "execution_count": null,
      "metadata": {
        "colab": {
          "base_uri": "https://localhost:8080/"
        },
        "id": "UuMpr-MhsIi7",
        "outputId": "e6471516-607d-48ef-bd94-7b3324555ffc"
      },
      "outputs": [
        {
          "name": "stdout",
          "output_type": "stream",
          "text": [
            "Using device: cuda\n",
            "Loaded model from epoch 29 with loss 0.0397\n",
            "Using noise schedule: cosine\n",
            "Generating images: 100% 100/100 [38:55<00:00, 23.36s/it]\n",
            "Generated 100 images and saved them to checkpoints/cosine_scheduling/generated_images\n"
          ]
        }
      ],
      "source": [
        "# generate synthetic images\n",
        "!python -u testing/generate_images.py\n",
        "# evaluate fid using prebuilt library pytorch_fid\n",
        "!python -m pytorch_fid \"testing/data/Ribosome(10028)/real_data\" \"checkpoints/cosine_scheduling/generated_images\" --dims 64"
      ]
    },
    {
      "cell_type": "code",
      "execution_count": null,
      "metadata": {
        "colab": {
          "base_uri": "https://localhost:8080/"
        },
        "id": "WcsNJQGsvZdP",
        "outputId": "5b4a2c6d-1505-4f4d-d3bb-a6e7489a365e"
      },
      "outputs": [
        {
          "name": "stdout",
          "output_type": "stream",
          "text": [
            "Using device: cuda\n",
            "Using cosine noise schedule\n",
            "Comparison visualization saved to checkpoints/cosine_scheduling/comparison.png\n"
          ]
        }
      ],
      "source": [
        "# compare real and generated images side-by-side\n",
        "!python testing/visualize_comparison.py"
      ]
    },
    {
      "cell_type": "code",
      "execution_count": null,
      "metadata": {
        "id": "DGfWWKk9osJD"
      },
      "outputs": [],
      "source": []
    }
  ],
  "metadata": {
    "accelerator": "GPU",
    "colab": {
      "gpuType": "A100",
      "provenance": []
    },
    "kernelspec": {
      "display_name": "Python 3",
      "name": "python3"
    },
    "language_info": {
      "name": "python"
    }
  },
  "nbformat": 4,
  "nbformat_minor": 0
}
